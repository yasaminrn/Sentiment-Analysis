{
 "cells": [
  {
   "cell_type": "code",
   "execution_count": 1,
   "metadata": {},
   "outputs": [],
   "source": [
    "#This notebook is used for scraping tweet for companies of interest using twitter API"
   ]
  },
  {
   "cell_type": "code",
   "execution_count": 2,
   "metadata": {},
   "outputs": [],
   "source": [
    "#importing libraries"
   ]
  },
  {
   "cell_type": "code",
   "execution_count": 3,
   "metadata": {},
   "outputs": [],
   "source": [
    "import pandas as pd"
   ]
  },
  {
   "cell_type": "code",
   "execution_count": 4,
   "metadata": {},
   "outputs": [],
   "source": [
    "import tweepy\n",
    "from tweepy import OAuthHandler"
   ]
  },
  {
   "cell_type": "code",
   "execution_count": 5,
   "metadata": {},
   "outputs": [],
   "source": [
    "import time"
   ]
  },
  {
   "cell_type": "code",
   "execution_count": 6,
   "metadata": {},
   "outputs": [],
   "source": [
    "%run key.ipynb"
   ]
  },
  {
   "cell_type": "code",
   "execution_count": 7,
   "metadata": {},
   "outputs": [],
   "source": [
    "def auth():\n",
    "    try:\n",
    "        auth = tweepy.OAuthHandler(consumer_key, consumer_secret)\n",
    "        auth.set_access_token(access_token, access_token_secret)\n",
    "        api = tweepy.API(auth)\n",
    "    except:\n",
    "        print(\"An error occurred during the authentication\")\n",
    "    return api"
   ]
  },
  {
   "cell_type": "code",
   "execution_count": 8,
   "metadata": {},
   "outputs": [],
   "source": [
    "api = auth()"
   ]
  },
  {
   "cell_type": "code",
   "execution_count": 9,
   "metadata": {},
   "outputs": [
    {
     "name": "stdout",
     "output_type": "stream",
     "text": [
      "<tweepy.api.API object at 0x000002C937ECB9A0>\n"
     ]
    }
   ],
   "source": [
    "print(api)"
   ]
  },
  {
   "cell_type": "code",
   "execution_count": 10,
   "metadata": {},
   "outputs": [],
   "source": [
    "#text_query = stock_list\n",
    "#this command is provided by a list for general use \n",
    "#as the tweeter API does not allow multiple queries in a short time period, they are run one by one\n",
    "text_query = ['TSLA', 'AAPL', 'META']"
   ]
  },
  {
   "cell_type": "code",
   "execution_count": 11,
   "metadata": {},
   "outputs": [
    {
     "data": {
      "text/plain": [
       "3"
      ]
     },
     "execution_count": 11,
     "metadata": {},
     "output_type": "execute_result"
    }
   ],
   "source": [
    "len(text_query)"
   ]
  },
  {
   "cell_type": "code",
   "execution_count": 12,
   "metadata": {},
   "outputs": [],
   "source": [
    "for j in range(0,len(text_query)):\n",
    "\n",
    "    df_query_based_tweets = pd.DataFrame()\n",
    "\n",
    "    try:\n",
    "        # Creation of query method using appropriate parameters\n",
    "        count = 1000\n",
    "        tweets = tweepy.Cursor(api.search_tweets,q=text_query[j], lang=\"en\").items(count)\n",
    "\n",
    "        # Pulling information from tweets iterable object and adding relevant tweet information in our data frame\n",
    "        for tweet in tweets:\n",
    "            df_query_based_tweets = df_query_based_tweets.append(\n",
    "                          {'Created at' : tweet._json['created_at'],\n",
    "                                       'User ID': tweet._json['id'],\n",
    "                              'User Name': tweet.user._json['name'],\n",
    "                                        'text': tweet._json['text'],\n",
    "                     'Description': tweet.user._json['description'],\n",
    "                           'Location': tweet.user._json['location'],\n",
    "             'Followers Count': tweet.user._json['followers_count'],\n",
    "                 'Friends Count': tweet.user._json['friends_count'],\n",
    "               'Statuses Count': tweet.user._json['statuses_count'],\n",
    "         'Profile Image Url': tweet.user._json['profile_image_url'],\n",
    "                         }, ignore_index=True)\n",
    "    except BaseException as e:\n",
    "        print('failed on_status,',str(e))\n",
    "        time.sleep(3)\n",
    "    \n",
    "    df_query_based_tweets.to_csv(text_query[j]+'.csv', index=False)"
   ]
  }
 ],
 "metadata": {
  "kernelspec": {
   "display_name": "Python 3",
   "language": "python",
   "name": "python3"
  },
  "language_info": {
   "codemirror_mode": {
    "name": "ipython",
    "version": 3
   },
   "file_extension": ".py",
   "mimetype": "text/x-python",
   "name": "python",
   "nbconvert_exporter": "python",
   "pygments_lexer": "ipython3",
   "version": "3.8.5"
  }
 },
 "nbformat": 4,
 "nbformat_minor": 4
}
